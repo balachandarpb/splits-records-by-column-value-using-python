{
 "cells": [
  {
   "cell_type": "code",
   "execution_count": 1,
   "metadata": {},
   "outputs": [
    {
     "name": "stdout",
     "output_type": "stream",
     "text": [
      "AK\n",
      "AL\n",
      "AL\n",
      "MT\n",
      "MT\n",
      "MT\n",
      "MT\n",
      "MT\n",
      "MT\n",
      "NC\n",
      "NC\n",
      "NC\n",
      "NC\n",
      "NC\n",
      "NC\n",
      "NC\n",
      "NC\n",
      "NC\n",
      "NC\n",
      "NC\n",
      "ND\n",
      "ND\n",
      "ND\n",
      "ND\n",
      "ND\n",
      "NE\n",
      "NE\n",
      "NE\n",
      "NE\n",
      "{'AK.csv': 1, 'AL.csv': 2, 'MT.csv': 6, 'NC.csv': 11, 'ND.csv': 5, 'NE.csv': 4}\n"
     ]
    },
    {
     "name": "stderr",
     "output_type": "stream",
     "text": [
      "C:\\Users\\User\\AppData\\Local\\Temp/ipykernel_19644/731829849.py:12: FutureWarning: The pandas.datetime class is deprecated and will be removed from pandas in a future version. Import from datetime module instead.\n",
      "  withdatedf = pd.datetime.now().strftime(\"%d/%m/%Y %I:%M:%S\")\n",
      "C:\\Users\\User\\AppData\\Local\\Temp/ipykernel_19644/731829849.py:17: SettingWithCopyWarning: \n",
      "A value is trying to be set on a copy of a slice from a DataFrame.\n",
      "Try using .loc[row_indexer,col_indexer] = value instead\n",
      "\n",
      "See the caveats in the documentation: https://pandas.pydata.org/pandas-docs/stable/user_guide/indexing.html#returning-a-view-versus-a-copy\n",
      "  sub_df['TimeStamp'] = withdatedf\n"
     ]
    }
   ],
   "source": [
    "import pandas as pd\n",
    "import numpy as np\n",
    "\n",
    "data = pd.read_csv(\"samplerecords.csv\", encoding='latin-1')\n",
    "\n",
    "df = pd.DataFrame(data)\n",
    "\n",
    "#df[\"Address 2\"].fillna('Null', inplace=True)\n",
    "\n",
    "dept_list = df[\"State\"]\n",
    "\n",
    "withdatedf = pd.datetime.now().strftime(\"%d/%m/%Y %I:%M:%S\")\n",
    "countstate = {}\n",
    "for state_name in dept_list.tolist():\n",
    "    print(state_name)\n",
    "    sub_df = df.loc[df['State'] == state_name]\n",
    "    sub_df['TimeStamp'] = withdatedf\n",
    "    output_file = state_name + \".csv\"\n",
    "    sub_df.to_csv(output_file, index=False)\n",
    "\n",
    "#How to count letters in dictionary \n",
    "    if output_file in countstate:\n",
    "        countstate[output_file] +=1\n",
    "    else:\n",
    "        output_file in countstate\n",
    "        countstate[output_file] = 1\n",
    "\n",
    "print(countstate)\n",
    "\n",
    "#HOW TO CONVERT DICTIONARY TO CSV FILE \n",
    "masterfile_Df = pd.DataFrame(list(countstate.items()),columns = ['Filename','FileCounts'])\n",
    "masterfile_Df.to_csv(\"recordscounts.csv\", index=False)"
   ]
  },
  {
   "cell_type": "code",
   "execution_count": null,
   "metadata": {},
   "outputs": [],
   "source": [
    "\n",
    "# same_Statecount = df.pivot_table(index=['State'], aggfunc='size')\n",
    "# print (same_Statecount)"
   ]
  },
  {
   "cell_type": "code",
   "execution_count": null,
   "metadata": {},
   "outputs": [],
   "source": []
  }
 ],
 "metadata": {
  "kernelspec": {
   "display_name": "Python 3 (ipykernel)",
   "language": "python",
   "name": "python3"
  },
  "language_info": {
   "codemirror_mode": {
    "name": "ipython",
    "version": 3
   },
   "file_extension": ".py",
   "mimetype": "text/x-python",
   "name": "python",
   "nbconvert_exporter": "python",
   "pygments_lexer": "ipython3",
   "version": "3.9.8"
  }
 },
 "nbformat": 4,
 "nbformat_minor": 4
}
